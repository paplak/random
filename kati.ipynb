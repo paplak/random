{
 "cells": [
  {
   "cell_type": "code",
   "execution_count": null,
   "metadata": {},
   "outputs": [],
   "source": [
    "Tisztelt Asszonyom!\n",
    "\n",
    "\n",
    "2021 január 4-én kelt önként jelentkezők listáját, amely Ön szerint \"a nővérkék\" munkáját segíteni lenne hivatva, \n",
    "ezzel én nem értek egyet. De mivel az Íris alkalmazottja vagyok, így a közvetlen felettesem utasítását végre kell \n",
    "hajtanom. Az Ön döntése, hogy milyen plusz feladatott ad számomra.\n",
    "2021. január 08-án a ruhát (az ellátottak szekrényeinek) ellenőrzését és rendrakását kaptam plusz feladatként.\n",
    "A következő javaslatokat teszem: \n",
    "- addig, amíg az ellátottak szekrényei nyitva vannak, nem lehet olyan rendszert kialakítani, ami megfelelő lenne. \n",
    "Mivel olyan ellátotttaink is vannak, akik önhibáikon kívül például demensek, fogyatékosok, akik rendetlenséget \n",
    "csinálnak a szekrényükben, például szaros, hugyos ruhájukat visszarakják a tiszta ruha közé. És ők bejárnak más \n",
    "lakók szobáiba és ott a szekrényekben is rendetlenséget csinálnak. \n",
    "A zárható szekrények ezt nagymértékben megakadályozzák. \n",
    "\n",
    "Azok az ellátottak, akik önállóan tudják a ruhájukat elpakolni, kapjanak kulcsot a szekrényükhöz. Egy kulcs a \n",
    "nővéri szobában lezárt borítékba kerüljön. Azoknál a személyeknél, akik önállóan  ezt a műveletet nem tudják \n",
    "végrehajtani, a zárható szekrények kulcsa a nővéri kulcscsomón legyen. Ha kivitelezhető az összes szekrényt egy \n",
    "kulcs nyissa. \n",
    "A második javaslatom: a lakókat rendeljük hozzá a szociális gondozó ápolókhoz, így egy-egy gondozóra ugyanannyi \n",
    "    ellátott jut. A gondozók azokért a személyekért felelnének, akiket megkapnak. Ez vonatkozik  a körömvágásra, \n",
    "    hajvágásra, a ruhás szekrények rendbetételére. A napi feladatok ellátását ez ne befolyásolja. Ezen kívűl ez \n",
    "    magába foglálná, hogy két hónaponta felmérje a lakók ruháinak állapotát, a selejtezési szabályzatnak \n",
    "    megfelelően. \n",
    "\n",
    "Az elosztásnál figyelembe kell venni a lakók állapotát, mennyi idő szükséges az adott feladatok elvégzésére. Ez \n",
    "lapján kerüljön sorsolás alapján kiválasztásra, hogy melyik gondozónőhöz melyik ellátott kerüljön. Két csoporra \n",
    "osztjuk az állátottakat. Az első csoportban legyenek azok, akik kevés időt igényelnek, a másodikban azok, akik \n",
    "többet. Arányosan kerüljkön minden nővérhez a két csoportbó. A mentálosok segítségét is igénybe véve válasszuk ki \n",
    "a két csoportot.A nappalos rakja el a ruhákat a szekrényekbe, mivel éjszaka a lakókat ezzel a foglalatossággal ne \n",
    "zavarjuk. A nővérek a saját lakóiknál ellenőrizze, hogy minden ruha a lakó tulajdona-e és ha nincs névvel ellátva, \n",
    "azt tegye meg. \n",
    "\n",
    "Természetesen az ellátottak számának bővülésével nő az egy ápolóra jutó lakók száma. A közös raktár rendbetételét \n",
    "az aznap dolgozók végzik. Ezáltal a raktárban megszünne az ellátottak ruháinak tárolása, ott csak a közös ruhák, \n",
    "paplanok, párnák stb. lenne. Valamilyen formában, amit a koordinátor asszony meg tud fogalmazni, fel kell  hívni \n",
    "az ellátottak hozzátartozóinak vagy gondnokainak a figyelmét, hogy az élet sajnos múlandó, ezért ha lehetséges, \n",
    "gyászruhát biztosítsanak a hozzátartozóik számára. A nappali műszakban lévők pakolják el a ruhákat. A mosonő - \n",
    "Kelemen Istvánné - bevált módszere szerint névvel ellátva kerüljenek a ruhák a nővérekhez. \n",
    "\n",
    "Javaslatom ezen kívűl még, hogy hétfőn és pénteken a műszakfelelős nézze át az anyagigényt (gyógyszer, papíráru, \n",
    "pelenka), és ami az \n",
    "ápolási feladat elvégzéséhez szükséges, azt ő vegye fel. \n",
    "A székletek vezetése eddig is közösen történt. Az adott műszakban dolgozók a délutáni tisztázás előtt ellenőrzik, \n",
    "hogy kinek, mikor volt széklete és megteszik a megfelelő intézkedést, például kúp, csepp beadásával. Valamint \n",
    "dokumentálja a műszakfelelős. A székletlazítót az előírt mennyiségben és személynek az aznap gyógyszerelő adja be \n",
    "és dokumentálja. \n",
    "A legmegfelelőbb az lenne, ha fodrász és pedikűrös is bejárhatna intézményünkbe a covid lejárta után.\n",
    "Kérem az ápolási koordinátort, hogy minden nap legyen tíz perce arra, hogy szúrópróbaszerűen ellenőrzi az \n",
    "elvégzett feladatokat. \n",
    "Én bízom az emberi méltóságban, az egymás iránti tiszteletben, és hogy mindenki a legjobb tudása szerint végzi a \n",
    "munkáját.\n",
    "\n",
    "\"A jó vezetők a főnökösködés helyett elkezdik bátorítani a munkatársaikat.\n",
    "Ez egy emberközpontú vezetés titka, a vezetés legnagyobb része a támogatásról szól.\" - John C. Maxwell amerikai \n",
    "lelkész. \n"
   ]
  }
 ],
 "metadata": {
  "kernelspec": {
   "display_name": "Python 3",
   "language": "python",
   "name": "python3"
  },
  "language_info": {
   "codemirror_mode": {
    "name": "ipython",
    "version": 3
   },
   "file_extension": ".py",
   "mimetype": "text/x-python",
   "name": "python",
   "nbconvert_exporter": "python",
   "pygments_lexer": "ipython3",
   "version": "3.6.9"
  }
 },
 "nbformat": 4,
 "nbformat_minor": 4
}
