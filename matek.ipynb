{
 "cells": [
  {
   "cell_type": "markdown",
   "metadata": {},
   "source": [
    "### 1. Példa"
   ]
  },
  {
   "cell_type": "markdown",
   "metadata": {},
   "source": [
    "$\\dfrac {1}{3}x = 5 $ "
   ]
  },
  {
   "cell_type": "markdown",
   "metadata": {},
   "source": [
    "Mindkét oldalt szorozzuk 3-al, hogy a tört eltűnjön."
   ]
  },
  {
   "cell_type": "markdown",
   "metadata": {},
   "source": [
    "$\\dfrac {1}{3}x = 5 \\;\\;\\;\\; /\\cdot 3$ "
   ]
  },
  {
   "cell_type": "markdown",
   "metadata": {},
   "source": [
    "$\\dfrac {1\\cdot 3}{3}x = 5 \\cdot 3$ "
   ]
  },
  {
   "cell_type": "markdown",
   "metadata": {},
   "source": [
    "$\\dfrac {3}{3}x = 15 $ "
   ]
  },
  {
   "cell_type": "markdown",
   "metadata": {},
   "source": [
    "A bal oldalon egyszerűsítünk 3-al és az marad, hogy"
   ]
  },
  {
   "cell_type": "markdown",
   "metadata": {},
   "source": [
    "$x = 15 $ "
   ]
  },
  {
   "cell_type": "markdown",
   "metadata": {},
   "source": [
    "### 2. Példa"
   ]
  },
  {
   "cell_type": "markdown",
   "metadata": {},
   "source": [
    "$\\dfrac {3}{4} + x = \\dfrac {2}{5} $ "
   ]
  },
  {
   "cell_type": "markdown",
   "metadata": {},
   "source": [
    "A különböző nevezőjű törteket közös nevezőre kell hozni, hogy számolni tudjunk velük. A közös nevezőt egyszerűen úgy kapjuk, hogy a nevezőket összeszorozzuk. Ebben a példában ez $ 4 \\cdot 5 = 20 $ lesz.  \n",
    "Tehát mindkét oldalt 20-al szorozzuk."
   ]
  },
  {
   "cell_type": "markdown",
   "metadata": {},
   "source": [
    "$\\dfrac {3}{4} + x = \\dfrac {2}{5} \\;\\;\\;\\; / \\cdot 20$ "
   ]
  },
  {
   "cell_type": "markdown",
   "metadata": {},
   "source": [
    "$\\dfrac {3\\cdot20}{4} + x\\cdot20 = \\dfrac {2\\cdot 20}{5} $ "
   ]
  },
  {
   "cell_type": "markdown",
   "metadata": {},
   "source": [
    "Jöhet az egyszerűsítés: a bal oldalon 4-el, a jobb oldalon 5-el tudunk egyszerűsíteni. Az $ x \\cdot 20-at $ írhatjuk úgy, hogy 20x."
   ]
  },
  {
   "cell_type": "markdown",
   "metadata": {},
   "source": [
    "$ 15 + 20x = 8$ "
   ]
  },
  {
   "cell_type": "markdown",
   "metadata": {},
   "source": [
    "Ha a 15-öt átvisszük a másik oldalra, előjelet vált tehát negatív szám lesz belőle."
   ]
  },
  {
   "cell_type": "markdown",
   "metadata": {},
   "source": [
    "$ 20x = 8 - 15$ "
   ]
  },
  {
   "cell_type": "markdown",
   "metadata": {},
   "source": [
    "$ 20x = -7$ "
   ]
  },
  {
   "cell_type": "markdown",
   "metadata": {},
   "source": [
    "$ x = - \\dfrac {7}{20} \\;\\;\\;$  ezt nem tudjuk tovább egyszerűsíteni."
   ]
  },
  {
   "cell_type": "markdown",
   "metadata": {},
   "source": [
    "### 3. Példa"
   ]
  },
  {
   "cell_type": "markdown",
   "metadata": {},
   "source": [
    "$\\dfrac {2}{3} + \\dfrac {1}{6} x = \\dfrac {1}{3} + \\dfrac {3}{4} $ "
   ]
  },
  {
   "cell_type": "markdown",
   "metadata": {},
   "source": [
    "Bár a közös nevező keresésénél továbbra is igaz, hogy azt megkapjuk a nevezők összeszorzásával azonban ennél a példánál az \"túl\" nagy számot eredményezne. A közös nevező lehet minden olyan szám, amiben a nevezők maradék nélkül megvannak. Ilyen több is van, célszerű a legkisebbet választani. Ebben az esetben ez a 12.  \n",
    "Tehát 12-el szorozzuk meg az egyenlet mindkét oldalát."
   ]
  },
  {
   "cell_type": "markdown",
   "metadata": {},
   "source": [
    "$\\dfrac {2}{3} + \\dfrac {1}{6} x = \\dfrac {1}{3} + \\dfrac {3}{4}\\;\\;\\;\\; /\\cdot 12 $ "
   ]
  },
  {
   "cell_type": "markdown",
   "metadata": {},
   "source": [
    "$\\dfrac {2\\cdot12}{3} + \\dfrac {1\\cdot12}{6} x = \\dfrac {1\\cdot12}{3} + \\dfrac {3\\cdot12}{4} $ "
   ]
  },
  {
   "cell_type": "markdown",
   "metadata": {},
   "source": [
    "A nevezőkkel egyszerűsítünk majd a számlálóban maradt számokat összeszorozzuk."
   ]
  },
  {
   "cell_type": "markdown",
   "metadata": {},
   "source": [
    "$8 + 2x = 4 + 9$"
   ]
  },
  {
   "cell_type": "markdown",
   "metadata": {},
   "source": [
    "A 8-at átvíve a túloldalra"
   ]
  },
  {
   "cell_type": "markdown",
   "metadata": {},
   "source": [
    "$2x = 4+9 -8$"
   ]
  },
  {
   "cell_type": "markdown",
   "metadata": {},
   "source": [
    "$ 2x = 5$"
   ]
  },
  {
   "cell_type": "markdown",
   "metadata": {},
   "source": [
    "$x = \\dfrac {5}{2}$"
   ]
  },
  {
   "cell_type": "markdown",
   "metadata": {},
   "source": [
    "### 4. Példa"
   ]
  },
  {
   "cell_type": "markdown",
   "metadata": {},
   "source": [
    "$ -11 - \\dfrac {3}{5} x = \\dfrac {1}{3} x + \\dfrac {8}{15} $ "
   ]
  },
  {
   "cell_type": "markdown",
   "metadata": {},
   "source": [
    "A közös nevező 15 lesz. Tehát mindkét oldalt ezzel szorozzuk meg."
   ]
  },
  {
   "cell_type": "markdown",
   "metadata": {},
   "source": [
    "$ -11 - \\dfrac {3}{5} x = \\dfrac {1}{3} x + \\dfrac {8}{15} \\;\\;\\;\\; / \\cdot 15$ "
   ]
  },
  {
   "cell_type": "markdown",
   "metadata": {},
   "source": [
    "$ -11\\cdot 15 - \\dfrac {3\\cdot15}{5} x = \\dfrac {1\\cdot15}{3} x + \\dfrac {8\\cdot15}{15} $ "
   ]
  },
  {
   "cell_type": "markdown",
   "metadata": {},
   "source": [
    "Jöhet az egyszerűsítés és szorzás"
   ]
  },
  {
   "cell_type": "markdown",
   "metadata": {},
   "source": [
    "$ -165 - 9 x = 5 x + 8 $ "
   ]
  },
  {
   "cell_type": "markdown",
   "metadata": {},
   "source": [
    "Egyik oldalra rendezzük az x-eket a másikra a számokat. Nem szabad elfelejtenünk, hogy amikor egy x-es tagot vagy számot átviszünk a másik oldalra, az előjele az ellenkezőre változik."
   ]
  },
  {
   "cell_type": "markdown",
   "metadata": {},
   "source": [
    "$- 9x - 5x = 8 + 165  $"
   ]
  },
  {
   "cell_type": "markdown",
   "metadata": {},
   "source": [
    "$ - 14 x = 173 $"
   ]
  },
  {
   "cell_type": "markdown",
   "metadata": {},
   "source": [
    "Mindkét oldalt osztjuk 14-el"
   ]
  },
  {
   "cell_type": "markdown",
   "metadata": {},
   "source": [
    "$ - 14 x = 173 \\;\\;\\;\\; / : 14 $"
   ]
  },
  {
   "cell_type": "markdown",
   "metadata": {},
   "source": [
    "$ - x = \\dfrac{173}{14}$"
   ]
  },
  {
   "cell_type": "markdown",
   "metadata": {},
   "source": [
    "Mindkét oldalt szorozzuk (-1)- el (mínusz 1-el, hogy az x előtt az előjel pozitív legyen). "
   ]
  },
  {
   "cell_type": "markdown",
   "metadata": {},
   "source": [
    " $x=-\\dfrac{173}{14}$"
   ]
  },
  {
   "cell_type": "markdown",
   "metadata": {},
   "source": [
    "### 5. Példa"
   ]
  },
  {
   "cell_type": "markdown",
   "metadata": {},
   "source": [
    "$ \\dfrac {4}{3} x - 2 - 2x = 3 + \\dfrac {1}{4} x - 4 $ "
   ]
  },
  {
   "cell_type": "markdown",
   "metadata": {},
   "source": [
    "A közös nevező 12."
   ]
  },
  {
   "cell_type": "markdown",
   "metadata": {},
   "source": [
    "$ \\dfrac {4}{3} x - 2 - 2x = 3 + \\dfrac {1}{4} x - 4 \\;\\;\\;\\; / \\cdot 12$ "
   ]
  },
  {
   "cell_type": "markdown",
   "metadata": {},
   "source": [
    "$ \\dfrac {4\\cdot 12}{3} x - 2\\cdot 12 - 2x\\cdot12 = 3\\cdot12 + \\dfrac {1\\cdot12}{4} x - 4\\cdot 12 $ "
   ]
  },
  {
   "cell_type": "markdown",
   "metadata": {},
   "source": [
    "$ 16x -24 - 24x = 36 + 3x - 48 $"
   ]
  },
  {
   "cell_type": "markdown",
   "metadata": {},
   "source": [
    "Egyenlet rendezése."
   ]
  },
  {
   "cell_type": "markdown",
   "metadata": {},
   "source": [
    "$ - 8x -24 = 3x - 12 $"
   ]
  },
  {
   "cell_type": "markdown",
   "metadata": {},
   "source": [
    "$ - 8x - 3x = 24 -12 $"
   ]
  },
  {
   "cell_type": "markdown",
   "metadata": {},
   "source": [
    "$ - 11x = 12 $"
   ]
  },
  {
   "cell_type": "markdown",
   "metadata": {},
   "source": [
    "$ x = - \\dfrac{12}{11} $"
   ]
  },
  {
   "cell_type": "markdown",
   "metadata": {},
   "source": []
  },
  {
   "cell_type": "markdown",
   "metadata": {},
   "source": []
  },
  {
   "cell_type": "markdown",
   "metadata": {},
   "source": [
    "$$sj$$"
   ]
  },
  {
   "cell_type": "markdown",
   "metadata": {},
   "source": [
    "$$2020.    06.05.$$"
   ]
  }
 ],
 "metadata": {
  "kernelspec": {
   "display_name": "Python 3",
   "language": "python",
   "name": "python3"
  },
  "language_info": {
   "codemirror_mode": {
    "name": "ipython",
    "version": 3
   },
   "file_extension": ".py",
   "mimetype": "text/x-python",
   "name": "python",
   "nbconvert_exporter": "python",
   "pygments_lexer": "ipython3",
   "version": "3.6.9"
  }
 },
 "nbformat": 4,
 "nbformat_minor": 4
}
