{
  "nbformat": 4,
  "nbformat_minor": 0,
  "metadata": {
    "kernelspec": {
      "display_name": "Python 3",
      "language": "python",
      "name": "python3"
    },
    "language_info": {
      "codemirror_mode": {
        "name": "ipython",
        "version": 3
      },
      "file_extension": ".py",
      "mimetype": "text/x-python",
      "name": "python",
      "nbconvert_exporter": "python",
      "pygments_lexer": "ipython3",
      "version": "3.6.9"
    },
    "colab": {
      "name": "matek.ipynb",
      "provenance": [],
      "include_colab_link": true
    }
  },
  "cells": [
    {
      "cell_type": "markdown",
      "metadata": {
        "id": "view-in-github",
        "colab_type": "text"
      },
      "source": [
        "<a href=\"https://colab.research.google.com/github/paplak/random/blob/master/matek.ipynb\" target=\"_parent\"><img src=\"https://colab.research.google.com/assets/colab-badge.svg\" alt=\"Open In Colab\"/></a>"
      ]
    },
    {
      "cell_type": "markdown",
      "metadata": {
        "id": "_wl_uUpTRmz3",
        "colab_type": "text"
      },
      "source": [
        "### 1. Példa"
      ]
    },
    {
      "cell_type": "markdown",
      "metadata": {
        "id": "lTkqem8JRmz5",
        "colab_type": "text"
      },
      "source": [
        "$\\dfrac {1}{3}x = 5 $ "
      ]
    },
    {
      "cell_type": "markdown",
      "metadata": {
        "id": "HFgSeasaRmz8",
        "colab_type": "text"
      },
      "source": [
        "Mindkét oldalt szorozzuk 3-al, hogy a tört eltűnjön."
      ]
    },
    {
      "cell_type": "markdown",
      "metadata": {
        "id": "Yp24AWt9Rmz-",
        "colab_type": "text"
      },
      "source": [
        "$\\dfrac {1}{3}x = 5 \\;\\;\\;\\; /\\cdot 3$ "
      ]
    },
    {
      "cell_type": "markdown",
      "metadata": {
        "id": "3KJ7uHIqRm0A",
        "colab_type": "text"
      },
      "source": [
        "$\\dfrac {1\\cdot 3}{3}x = 5 \\cdot 3$ "
      ]
    },
    {
      "cell_type": "markdown",
      "metadata": {
        "id": "S2rJ1fYCRm0C",
        "colab_type": "text"
      },
      "source": [
        "$\\dfrac {3}{3}x = 15 $ "
      ]
    },
    {
      "cell_type": "markdown",
      "metadata": {
        "id": "FHpf-tFTRm0D",
        "colab_type": "text"
      },
      "source": [
        "A bal oldalon egyszerűsítünk 3-al és az marad, hogy"
      ]
    },
    {
      "cell_type": "markdown",
      "metadata": {
        "id": "ZU8fKSNmRm0E",
        "colab_type": "text"
      },
      "source": [
        "$x = 15 $ "
      ]
    },
    {
      "cell_type": "markdown",
      "metadata": {
        "id": "bOVJq9IpRm0G",
        "colab_type": "text"
      },
      "source": [
        "### 2. Példa"
      ]
    },
    {
      "cell_type": "markdown",
      "metadata": {
        "id": "watVKhOHRm0J",
        "colab_type": "text"
      },
      "source": [
        "$\\dfrac {3}{4} + x = \\dfrac {2}{5} $ "
      ]
    },
    {
      "cell_type": "markdown",
      "metadata": {
        "id": "-ypqe41rRm0K",
        "colab_type": "text"
      },
      "source": [
        "A különböző nevezőjű törteket közös nevezőre kell hozni, hogy számolni tudjunk velük. A közös nevezőt egyszerűen úgy kapjuk, hogy a nevezőket összeszorozzuk. Ebben a példában ez $ 4 \\cdot 5 = 20 $ lesz.  \n",
        "Tehát mindkét oldalt 20-al szorozzuk."
      ]
    },
    {
      "cell_type": "markdown",
      "metadata": {
        "id": "JX54safyRm0N",
        "colab_type": "text"
      },
      "source": [
        "$\\dfrac {3}{4} + x = \\dfrac {2}{5} \\;\\;\\;\\; / \\cdot 20$ "
      ]
    },
    {
      "cell_type": "markdown",
      "metadata": {
        "id": "7jYahogORm0P",
        "colab_type": "text"
      },
      "source": [
        "$\\dfrac {3\\cdot20}{4} + x\\cdot20 = \\dfrac {2\\cdot 20}{5} $ "
      ]
    },
    {
      "cell_type": "markdown",
      "metadata": {
        "id": "sdtngH_tRm0Q",
        "colab_type": "text"
      },
      "source": [
        "Jöhet az egyszerűsítés: a bal oldalon 4-el, a jobb oldalon 5-el tudunk egyszerűsíteni. Az $ x \\cdot 20-at $ írhatjuk úgy, hogy 20x."
      ]
    },
    {
      "cell_type": "markdown",
      "metadata": {
        "id": "1ntigaOuRm0S",
        "colab_type": "text"
      },
      "source": [
        "$ 15 + 20x = 8$ "
      ]
    },
    {
      "cell_type": "markdown",
      "metadata": {
        "id": "vDwpf1N9Rm0T",
        "colab_type": "text"
      },
      "source": [
        "Ha a 15-öt átvisszük a másik oldalra, előjelet vált tehát negatív szám lesz belőle."
      ]
    },
    {
      "cell_type": "markdown",
      "metadata": {
        "id": "5kkOj1lWRm0U",
        "colab_type": "text"
      },
      "source": [
        "$ 20x = 8 - 15$ "
      ]
    },
    {
      "cell_type": "markdown",
      "metadata": {
        "id": "ziOXbn80Rm0V",
        "colab_type": "text"
      },
      "source": [
        "$ 20x = -7$ "
      ]
    },
    {
      "cell_type": "markdown",
      "metadata": {
        "id": "rpLnWcepRm0X",
        "colab_type": "text"
      },
      "source": [
        "$ x = - \\dfrac {7}{20} \\;\\;\\;$  ezt nem tudjuk tovább egyszerűsíteni."
      ]
    },
    {
      "cell_type": "markdown",
      "metadata": {
        "id": "A7cKalkDRm0Z",
        "colab_type": "text"
      },
      "source": [
        "### 3. Példa"
      ]
    },
    {
      "cell_type": "markdown",
      "metadata": {
        "id": "KpbY7pzZRm0a",
        "colab_type": "text"
      },
      "source": [
        "$\\dfrac {2}{3} + \\dfrac {1}{6} x = \\dfrac {1}{3} + \\dfrac {3}{4} $ "
      ]
    },
    {
      "cell_type": "markdown",
      "metadata": {
        "id": "qRYpKMHORm0c",
        "colab_type": "text"
      },
      "source": [
        "Bár a közös nevező keresésénél továbbra is igaz, hogy azt megkapjuk a nevezők összeszorzásával azonban ennél a példánál az \"túl\" nagy számot eredményezne. A közös nevező lehet minden olyan szám, amiben a nevezők maradék nélkül megvannak. Ilyen több is van, célszerű a legkisebbet választani. Ebben az esetben ez a 12.  \n",
        "Tehát 12-el szorozzuk meg az egyenlet mindkét oldalát."
      ]
    },
    {
      "cell_type": "markdown",
      "metadata": {
        "id": "8kwYhJakRm0e",
        "colab_type": "text"
      },
      "source": [
        "$\\dfrac {2}{3} + \\dfrac {1}{6} x = \\dfrac {1}{3} + \\dfrac {3}{4}\\;\\;\\;\\; /\\cdot 12 $ "
      ]
    },
    {
      "cell_type": "markdown",
      "metadata": {
        "id": "G6O_mHvgRm0g",
        "colab_type": "text"
      },
      "source": [
        "$\\dfrac {2\\cdot12}{3} + \\dfrac {1\\cdot12}{6} x = \\dfrac {1\\cdot12}{3} + \\dfrac {3\\cdot12}{4} $ "
      ]
    },
    {
      "cell_type": "markdown",
      "metadata": {
        "id": "JkR5tSLzRm0h",
        "colab_type": "text"
      },
      "source": [
        "A nevezőkkel egyszerűsítünk majd a számlálóban maradt számokat összeszorozzuk."
      ]
    },
    {
      "cell_type": "markdown",
      "metadata": {
        "id": "Za4K72_WRm0i",
        "colab_type": "text"
      },
      "source": [
        "$8 + 2x = 4 + 9$"
      ]
    },
    {
      "cell_type": "markdown",
      "metadata": {
        "id": "8ywrnq_iRm0j",
        "colab_type": "text"
      },
      "source": [
        "A 8-at átvíve a túloldalra"
      ]
    },
    {
      "cell_type": "markdown",
      "metadata": {
        "id": "OtVWo9yrRm0k",
        "colab_type": "text"
      },
      "source": [
        "$2x = 4+9 -8$"
      ]
    },
    {
      "cell_type": "markdown",
      "metadata": {
        "id": "82luPPaURm0l",
        "colab_type": "text"
      },
      "source": [
        "$ 2x = 5$"
      ]
    },
    {
      "cell_type": "markdown",
      "metadata": {
        "id": "s7i-BbKiRm0n",
        "colab_type": "text"
      },
      "source": [
        "$x = \\dfrac {5}{2}$"
      ]
    },
    {
      "cell_type": "markdown",
      "metadata": {
        "id": "LyndvTDCRm0p",
        "colab_type": "text"
      },
      "source": [
        "### 4. Példa"
      ]
    },
    {
      "cell_type": "markdown",
      "metadata": {
        "id": "usm7EWWgRm0q",
        "colab_type": "text"
      },
      "source": [
        "$ -11 - \\dfrac {3}{5} x = \\dfrac {1}{3} x + \\dfrac {8}{15} $ "
      ]
    },
    {
      "cell_type": "markdown",
      "metadata": {
        "id": "aPWEXH84Rm0s",
        "colab_type": "text"
      },
      "source": [
        "A közös nevező 15 lesz. Tehát mindkét oldalt ezzel szorozzuk meg."
      ]
    },
    {
      "cell_type": "markdown",
      "metadata": {
        "id": "l7mDW-_WRm0v",
        "colab_type": "text"
      },
      "source": [
        "$ -11 - \\dfrac {3}{5} x = \\dfrac {1}{3} x + \\dfrac {8}{15} \\;\\;\\;\\; / \\cdot 15$ "
      ]
    },
    {
      "cell_type": "markdown",
      "metadata": {
        "id": "aqUklnPvRm0w",
        "colab_type": "text"
      },
      "source": [
        "$ -11\\cdot 15 - \\dfrac {3\\cdot15}{5} x = \\dfrac {1\\cdot15}{3} x + \\dfrac {8\\cdot15}{15} $ "
      ]
    },
    {
      "cell_type": "markdown",
      "metadata": {
        "id": "hOkjxvHZRm0y",
        "colab_type": "text"
      },
      "source": [
        "Jöhet az egyszerűsítés és szorzás"
      ]
    },
    {
      "cell_type": "markdown",
      "metadata": {
        "id": "YFYloqRaRm0z",
        "colab_type": "text"
      },
      "source": [
        "$ -165 - 9 x = 5 x + 8 $ "
      ]
    },
    {
      "cell_type": "markdown",
      "metadata": {
        "id": "PlxEjrpQRm00",
        "colab_type": "text"
      },
      "source": [
        "Egyik oldalra rendezzük az x-eket a másikra a számokat. Nem szabad elfelejtenünk, hogy amikor egy x-es tagot vagy számot átviszünk a másik oldalra, az előjele az ellenkezőre változik."
      ]
    },
    {
      "cell_type": "markdown",
      "metadata": {
        "id": "V3Evq4fORm03",
        "colab_type": "text"
      },
      "source": [
        "$- 9x - 5x = 8 + 165  $"
      ]
    },
    {
      "cell_type": "markdown",
      "metadata": {
        "id": "vXL3pKx8Rm06",
        "colab_type": "text"
      },
      "source": [
        "$ - 14 x = 173 $"
      ]
    },
    {
      "cell_type": "markdown",
      "metadata": {
        "id": "2H4yaMY2Rm07",
        "colab_type": "text"
      },
      "source": [
        "Mindkét oldalt osztjuk 14-el"
      ]
    },
    {
      "cell_type": "markdown",
      "metadata": {
        "id": "sPacy6O-Rm08",
        "colab_type": "text"
      },
      "source": [
        "$ - 14 x = 173 \\;\\;\\;\\; / : 14 $"
      ]
    },
    {
      "cell_type": "markdown",
      "metadata": {
        "id": "HW0SrtSBRm09",
        "colab_type": "text"
      },
      "source": [
        "$ - x = \\dfrac{173}{14}$"
      ]
    },
    {
      "cell_type": "markdown",
      "metadata": {
        "id": "JzOI0bx-Rm0_",
        "colab_type": "text"
      },
      "source": [
        "Mindkét oldalt szorozzuk (-1)- el (mínusz 1-el, hogy az x előtt az előjel pozitív legyen). "
      ]
    },
    {
      "cell_type": "markdown",
      "metadata": {
        "id": "g6NzhNZERm1B",
        "colab_type": "text"
      },
      "source": [
        " $x=-\\dfrac{173}{14}$"
      ]
    },
    {
      "cell_type": "markdown",
      "metadata": {
        "id": "E0cL1eTvRm1C",
        "colab_type": "text"
      },
      "source": [
        "### 5. Példa"
      ]
    },
    {
      "cell_type": "markdown",
      "metadata": {
        "id": "ODJzF1P-Rm1D",
        "colab_type": "text"
      },
      "source": [
        "$ \\dfrac {4}{3} x - 2 - 2x = 3 + \\dfrac {1}{4} x - 4 $ "
      ]
    },
    {
      "cell_type": "markdown",
      "metadata": {
        "id": "9glH7T53Rm1E",
        "colab_type": "text"
      },
      "source": [
        "A közös nevező 12."
      ]
    },
    {
      "cell_type": "markdown",
      "metadata": {
        "id": "73EW787JRm1F",
        "colab_type": "text"
      },
      "source": [
        "$ \\dfrac {4}{3} x - 2 - 2x = 3 + \\dfrac {1}{4} x - 4 \\;\\;\\;\\; / \\cdot 12$ "
      ]
    },
    {
      "cell_type": "markdown",
      "metadata": {
        "id": "KEq5Zv5LRm1G",
        "colab_type": "text"
      },
      "source": [
        "$ \\dfrac {4\\cdot 12}{3} x - 2\\cdot 12 - 2x\\cdot12 = 3\\cdot12 + \\dfrac {1\\cdot12}{4} x - 4\\cdot 12 $ "
      ]
    },
    {
      "cell_type": "markdown",
      "metadata": {
        "id": "eESf6pcTRm1H",
        "colab_type": "text"
      },
      "source": [
        "$ 16x -24 - 24x = 36 + 3x - 48 $"
      ]
    },
    {
      "cell_type": "markdown",
      "metadata": {
        "id": "Up4uK2wWRm1I",
        "colab_type": "text"
      },
      "source": [
        "Egyenlet rendezése."
      ]
    },
    {
      "cell_type": "markdown",
      "metadata": {
        "id": "XHah2arjRm1J",
        "colab_type": "text"
      },
      "source": [
        "$ - 8x -24 = 3x - 12 $"
      ]
    },
    {
      "cell_type": "markdown",
      "metadata": {
        "id": "mVjbu7_TRm1K",
        "colab_type": "text"
      },
      "source": [
        "$ - 8x - 3x = 24 -12 $"
      ]
    },
    {
      "cell_type": "markdown",
      "metadata": {
        "id": "7cLdm1lGRm1M",
        "colab_type": "text"
      },
      "source": [
        "$ - 11x = 12 $"
      ]
    },
    {
      "cell_type": "markdown",
      "metadata": {
        "id": "JxiSIlI_Rm1N",
        "colab_type": "text"
      },
      "source": [
        "$ x = - \\dfrac{12}{11} $"
      ]
    }
  ]
}