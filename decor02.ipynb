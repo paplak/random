{
 "cells": [
  {
   "cell_type": "code",
   "execution_count": 1,
   "metadata": {},
   "outputs": [],
   "source": [
    "import math\n",
    "import os\n",
    "import random"
   ]
  },
  {
   "cell_type": "code",
   "execution_count": 44,
   "metadata": {},
   "outputs": [],
   "source": [
    "def fun_to_decor():\n",
    "    print('some arbitrary text here...')"
   ]
  },
  {
   "cell_type": "code",
   "execution_count": 65,
   "metadata": {},
   "outputs": [],
   "source": [
    "def decor_ator(fun_to_decor):\n",
    "    def wrapper(*args, **kwargs):\n",
    "        print(\"Let's see how many it is!\")\n",
    "        fun_to_decor(*args, **kwargs)\n",
    "        #print(res)\n",
    "        print('Maybe but who knows...')\n",
    "    return wrapper"
   ]
  },
  {
   "cell_type": "code",
   "execution_count": 72,
   "metadata": {},
   "outputs": [],
   "source": [
    "@decor_ator\n",
    "def fun_to_decor():\n",
    "    print('some arbitrary text here...')"
   ]
  },
  {
   "cell_type": "code",
   "execution_count": 73,
   "metadata": {},
   "outputs": [
    {
     "name": "stdout",
     "output_type": "stream",
     "text": [
      "Let's see how many it is!\n",
      "some arbitrary text here...\n",
      "Maybe but who knows...\n"
     ]
    }
   ],
   "source": [
    "# without args\n",
    "fun_to_decor()"
   ]
  },
  {
   "cell_type": "code",
   "execution_count": 74,
   "metadata": {},
   "outputs": [
    {
     "name": "stdout",
     "output_type": "stream",
     "text": [
      "Let's see how many it is!\n",
      "a + b + c =  60\n",
      "Maybe but who knows...\n"
     ]
    }
   ],
   "source": [
    "# with 3 args\n",
    "@decor_ator\n",
    "def fun_to_decor(a, b, c):\n",
    "    print ('a + b + c = ', a + b +c)\n",
    "\n",
    "fun_to_decor(10, 20, 30)"
   ]
  },
  {
   "cell_type": "code",
   "execution_count": 78,
   "metadata": {},
   "outputs": [
    {
     "name": "stdout",
     "output_type": "stream",
     "text": [
      "Let's see how many it is!\n",
      "sum =  900\n",
      "Maybe but who knows...\n"
     ]
    }
   ],
   "source": [
    "# with some args...\n",
    "@decor_ator\n",
    "def fun_to_decor(a, b):\n",
    "    print(\"sum = \", a**3 - b)\n",
    "    \n",
    "fun_to_decor(10, 100)"
   ]
  }
 ],
 "metadata": {
  "kernelspec": {
   "display_name": "Python 3",
   "language": "python",
   "name": "python3"
  },
  "language_info": {
   "codemirror_mode": {
    "name": "ipython",
    "version": 3
   },
   "file_extension": ".py",
   "mimetype": "text/x-python",
   "name": "python",
   "nbconvert_exporter": "python",
   "pygments_lexer": "ipython3",
   "version": "3.6.9"
  }
 },
 "nbformat": 4,
 "nbformat_minor": 4
}
